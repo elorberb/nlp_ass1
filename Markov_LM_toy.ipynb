{
 "cells": [
  {
   "cell_type": "code",
   "execution_count": null,
   "id": "1d03f8ff",
   "metadata": {},
   "outputs": [],
   "source": [
    "import os, re, sys\n",
    "from collections import Counter, defaultdict, OrderedDict\n",
    "pat_re=re.compile(\"([.?!\\;`,\\—\\-'\\’\\\"\\“])\") #some special characters"
   ]
  },
  {
   "cell_type": "markdown",
   "id": "e98ef50e",
   "metadata": {},
   "source": [
    "#### NOTE: \n",
    "The Raven is a classic poem by Edgar Allen Poe.\n",
    "Download the file from 'https://www.dropbox.com/s/2behj1yr7zav7sf/the_raven.txt?dl=0' \n",
    "and save it to the current directory.\n",
    "\n",
    "[You can listen to Lou Reed reading the poem: https://open.spotify.com/track/3wJuirpgmeS9gD5azqENaS?si=6ecb5a54231f4846\n",
    "or by James Earl Jones: https://www.youtube.com/watch?v=WcqPQXqQXzI]"
   ]
  },
  {
   "cell_type": "code",
   "execution_count": null,
   "id": "6341e913",
   "metadata": {},
   "outputs": [],
   "source": [
    "fn = 'the_raven.txt' \n",
    "with open(fn) as fin:\n",
    "    text = fin.read()"
   ]
  },
  {
   "cell_type": "markdown",
   "id": "de5054b4",
   "metadata": {},
   "source": [
    "#### Basic text normalization\n",
    "\n",
    "This can be done in many different ways, achieving diofferent results. \n",
    "    "
   ]
  },
  {
   "cell_type": "code",
   "execution_count": null,
   "id": "e5d15872",
   "metadata": {},
   "outputs": [],
   "source": [
    "text = text.lower()\n",
    "text = pat_re.sub(\" \\\\1 \", text) #padding special chars with a white space\n",
    "text = re.sub('\\s+',' ', text)  #removing sequences white spaces\n",
    "text = pat_re.sub('', text) #removing punctuation and special chars"
   ]
  },
  {
   "cell_type": "markdown",
   "id": "c9138418",
   "metadata": {},
   "source": [
    "#### Simple Nested Data Structure for a Language Model\n",
    "\n",
    "The following code block creates a very simple datastracture to be used in a language model. Notice the nested structure. Think what are the benefits of this structure. \n",
    "(also notice the use of the lambda function)"
   ]
  },
  {
   "cell_type": "code",
   "execution_count": null,
   "id": "30e3d92d",
   "metadata": {},
   "outputs": [],
   "source": [
    "def get_vocab(text): return re.findall(r'\\w+', text)\n",
    "\n",
    "vocab_counter = Counter(get_vocab(text))\n",
    "vocab = list(vocab_counter)\n",
    "\n",
    "ngrams = defaultdict(int)\n",
    "contexts = defaultdict(int)\n",
    "contexts_d = defaultdict(lambda: defaultdict(int))\n",
    "n = 3\n",
    "words = text.split()\n",
    "for i in range(len(words)-n+1):\n",
    "    ngrams[' '.join(words[i:i+n])]+=1\n",
    "    contexts[' '.join(words[i:i+n-1])]+=1\n",
    "    contexts_d[' '.join(words[i:i+n-1])][words[i+n-1]]+=1"
   ]
  },
  {
   "cell_type": "code",
   "execution_count": null,
   "id": "d9fab462",
   "metadata": {},
   "outputs": [],
   "source": [
    "s = 'quoth the'\n",
    "print('s=%s: %d\\t%s' %(s,contexts[s], '#times s appears as a context'))\n",
    "\n",
    "s = 'quoth the raven'\n",
    "print('s=%s: %d\\t%s' %(s,ngrams[s], '#times s appears as a full ngram'))\n",
    "\n",
    "\n",
    "s = 'The most frequent ngram is: '\n",
    "print(s, '\\'',max(ngrams, key=ngrams.get),'\\'', ', freq:', ngrams[max(ngrams, key=ngrams.get)])\n",
    "\n",
    "s = 'The most frequent context is: '\n",
    "print(s, '\\'',max(contexts, key=contexts.get),'\\'', ', freq:', contexts[max(contexts, key=contexts.get)])\n"
   ]
  },
  {
   "cell_type": "markdown",
   "id": "7275b878",
   "metadata": {},
   "source": [
    "#### A peek  into the nested structure"
   ]
  },
  {
   "cell_type": "code",
   "execution_count": null,
   "id": "06428db3",
   "metadata": {},
   "outputs": [],
   "source": [
    "contexts_d['chamber door']"
   ]
  },
  {
   "cell_type": "code",
   "execution_count": null,
   "id": "2daf3dd1",
   "metadata": {},
   "outputs": [],
   "source": [
    "contexts_d"
   ]
  },
  {
   "cell_type": "code",
   "execution_count": null,
   "id": "e83386cd",
   "metadata": {},
   "outputs": [],
   "source": []
  }
 ],
 "metadata": {
  "kernelspec": {
   "display_name": "Python 3 (ipykernel)",
   "language": "python",
   "name": "python3"
  },
  "language_info": {
   "codemirror_mode": {
    "name": "ipython",
    "version": 3
   },
   "file_extension": ".py",
   "mimetype": "text/x-python",
   "name": "python",
   "nbconvert_exporter": "python",
   "pygments_lexer": "ipython3",
   "version": "3.9.7"
  }
 },
 "nbformat": 4,
 "nbformat_minor": 5
}
